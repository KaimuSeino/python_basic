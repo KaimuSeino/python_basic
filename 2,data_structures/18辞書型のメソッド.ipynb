{
 "cells": [
  {
   "cell_type": "markdown",
   "metadata": {},
   "source": [
    "### 辞書型のメソッド"
   ]
  },
  {
   "cell_type": "code",
   "execution_count": 8,
   "metadata": {},
   "outputs": [
    {
     "name": "stdout",
     "output_type": "stream",
     "text": [
      "dict_keys(['x', 'y'])\n",
      "dict_values([10, 20])\n",
      "{'x': 3245, 'y': 20, 'j': 6847593}\n",
      "3245\n",
      "{'y': 20, 'j': 6847593}\n"
     ]
    }
   ],
   "source": [
    "d = {\"x\": 10, \"y\": 20}\n",
    "\n",
    "# print(help(d))\n",
    "\n",
    "print(d.keys())\n",
    "\n",
    "print(d.values())\n",
    "\n",
    "d2 = {\"x\": 3245, \"j\": 6847593}\n",
    "\n",
    "d.update(d2)\n",
    "\n",
    "print(d)\n",
    "\n",
    "print(d.get(\"x\")) # メソッドでもいける\n",
    "\n",
    "d.pop(\"x\")\n",
    "\n",
    "print(d)"
   ]
  },
  {
   "cell_type": "code",
   "execution_count": 10,
   "metadata": {},
   "outputs": [
    {
     "name": "stdout",
     "output_type": "stream",
     "text": [
      "True\n",
      "False\n"
     ]
    }
   ],
   "source": [
    "d = {\"a\": 45, \"b\": 57}\n",
    "\n",
    "print(\"a\" in d)\n",
    "\n",
    "print(\"j\" in d)"
   ]
  }
 ],
 "metadata": {
  "kernelspec": {
   "display_name": "Python 3",
   "language": "python",
   "name": "python3"
  },
  "language_info": {
   "codemirror_mode": {
    "name": "ipython",
    "version": 3
   },
   "file_extension": ".py",
   "mimetype": "text/x-python",
   "name": "python",
   "nbconvert_exporter": "python",
   "pygments_lexer": "ipython3",
   "version": "3.12.3"
  }
 },
 "nbformat": 4,
 "nbformat_minor": 2
}
