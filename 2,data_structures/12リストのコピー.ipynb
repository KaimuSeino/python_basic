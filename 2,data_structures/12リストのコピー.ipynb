{
 "cells": [
  {
   "cell_type": "code",
   "execution_count": 6,
   "metadata": {},
   "outputs": [
    {
     "name": "stdout",
     "output_type": "stream",
     "text": [
      "i = [100, 2, 3, 4, 5]\n",
      "j = [100, 2, 3, 4, 5]\n",
      "これはiとjのアドレスが同じなので値が同じになっている\n",
      "x = [1, 2, 3, 4, 5]\n",
      "y = [100, 2, 3, 4, 5]\n"
     ]
    }
   ],
   "source": [
    "i = [1, 2, 3, 4, 5]\n",
    "j = i\n",
    "\n",
    "j[0] = 100\n",
    "print(\"i =\", i)\n",
    "print(\"j =\", j)\n",
    "print(\"これはiとjのアドレスが同じなので値が同じになっている\")\n",
    "\n",
    "\n",
    "x = [1, 2, 3, 4, 5]\n",
    "y = x.copy()\n",
    "# y = x[:]\n",
    "\n",
    "y[0] = 100\n",
    "\n",
    "print(\"x =\", x)\n",
    "print(\"y =\", y)"
   ]
  },
  {
   "cell_type": "code",
   "execution_count": 10,
   "metadata": {},
   "outputs": [
    {
     "name": "stdout",
     "output_type": "stream",
     "text": [
      "x = 20 id = 4391165608\n",
      "y = 5 id = 4391165128\n",
      "i = [100, 2, 3, 4, 5] id = 4724632832\n",
      "j = [100, 2, 3, 4, 5] id = 4724632832\n"
     ]
    }
   ],
   "source": [
    "x = 20\n",
    "y = x\n",
    "y = 5\n",
    "\n",
    "print(\"x =\", x, \"id =\", id(x))\n",
    "print(\"y =\", y, \"id =\", id(y))\n",
    "\n",
    "i = [1, 2, 3, 4, 5]\n",
    "j = i\n",
    "\n",
    "j[0] = 100\n",
    "\n",
    "print(\"i =\", i, \"id =\", id(i))\n",
    "print(\"j =\", j, \"id =\", id(j))"
   ]
  }
 ],
 "metadata": {
  "kernelspec": {
   "display_name": "Python 3",
   "language": "python",
   "name": "python3"
  },
  "language_info": {
   "codemirror_mode": {
    "name": "ipython",
    "version": 3
   },
   "file_extension": ".py",
   "mimetype": "text/x-python",
   "name": "python",
   "nbconvert_exporter": "python",
   "pygments_lexer": "ipython3",
   "version": "3.12.3"
  }
 },
 "nbformat": 4,
 "nbformat_minor": 2
}
