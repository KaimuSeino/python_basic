{
 "cells": [
  {
   "cell_type": "markdown",
   "metadata": {},
   "source": [
    "### リストの操作"
   ]
  },
  {
   "cell_type": "code",
   "execution_count": 10,
   "metadata": {},
   "outputs": [
    {
     "name": "stdout",
     "output_type": "stream",
     "text": [
      "X\n",
      "['C', 'D', 'E']\n",
      "['X', 'b', 'f', 'g']\n",
      "[]\n"
     ]
    }
   ],
   "source": [
    "s = [\"a\", \"b\", \"c\", \"d\", \"e\", \"f\", \"g\"]\n",
    "\n",
    "s[0] = \"X\"\n",
    "\n",
    "print(s[0])\n",
    "\n",
    "s[2:5] = [\"C\", \"D\", \"E\"]\n",
    "\n",
    "print(s[2:5])\n",
    "\n",
    "s[2:5] = []\n",
    "print(s)\n",
    "\n",
    "s[:] = []\n",
    "\n",
    "print(s)"
   ]
  },
  {
   "cell_type": "code",
   "execution_count": 1,
   "metadata": {},
   "outputs": [
    {
     "name": "stdout",
     "output_type": "stream",
     "text": [
      "[1, 2, 3, 4, 5, 6, 7, 8, 9, 10, 199]\n",
      "[100, 1, 2, 3, 4, 5, 6, 7, 8, 9, 10, 199]\n",
      "199\n",
      "[100, 1, 2, 3, 4, 5, 6, 7, 8, 9, 10]\n",
      "pip 100\n",
      "[2, 3, 4, 5, 6, 7, 8, 9, 10]\n"
     ]
    }
   ],
   "source": [
    "n = [1, 2, 3, 4, 5, 6, 7, 8, 9, 10]\n",
    "\n",
    "n.append(199) # append: 追加する\n",
    "\n",
    "print(n)\n",
    "\n",
    "n.insert(0, 100) # insert: 入れる\n",
    "\n",
    "print(n)\n",
    "\n",
    "print(n.pop()) # pop: 一発打つ\n",
    "print(n)\n",
    "\n",
    "print(\"pip\", n.pop(ma))\n",
    "\n",
    "del n[0] # del: 消す\n",
    "\n",
    "print(n)[1, 1, 0, 1, 0, 0]"
   ]
  },
  {
   "cell_type": "code",
   "execution_count": 17,
   "metadata": {},
   "outputs": [
    {
     "name": "stdout",
     "output_type": "stream",
     "text": [
      "[1, 2, 2, 3]\n"
     ]
    }
   ],
   "source": [
    "n = [1, 2, 2, 2, 3]\n",
    "n.remove(2)  # remove: 取り除く\n",
    "print(n)"
   ]
  },
  {
   "cell_type": "code",
   "execution_count": 19,
   "metadata": {},
   "outputs": [
    {
     "name": "stdout",
     "output_type": "stream",
     "text": [
      "[1, 2, 3, 4, 5, 6, 7, 8, 9, 10]\n",
      "[1, 2, 3, 4, 5, 6, 7, 8, 9, 10]\n"
     ]
    }
   ],
   "source": [
    "a = [1, 2, 3, 4, 5]\n",
    "b = [6, 7, 8, 9, 10]\n",
    "\n",
    "x = a + b\n",
    "print(x)\n",
    "\n",
    "a += b\n",
    "print(a)"
   ]
  },
  {
   "cell_type": "code",
   "execution_count": 20,
   "metadata": {},
   "outputs": [
    {
     "name": "stdout",
     "output_type": "stream",
     "text": [
      "[1, 2, 3, 4, 5, 6, 7, 8, 9, 10]\n"
     ]
    }
   ],
   "source": [
    "x = [1, 2, 3, 4, 5]\n",
    "y = [6, 7, 8, 9, 10]\n",
    "\n",
    "x.extend(y)\n",
    "print(x)"
   ]
  }
 ],
 "metadata": {
  "kernelspec": {
   "display_name": "Python 3",
   "language": "python",
   "name": "python3"
  },
  "language_info": {
   "codemirror_mode": {
    "name": "ipython",
    "version": 3
   },
   "file_extension": ".py",
   "mimetype": "text/x-python",
   "name": "python",
   "nbconvert_exporter": "python",
   "pygments_lexer": "ipython3",
   "version": "3.12.3"
  }
 },
 "nbformat": 4,
 "nbformat_minor": 2
}
