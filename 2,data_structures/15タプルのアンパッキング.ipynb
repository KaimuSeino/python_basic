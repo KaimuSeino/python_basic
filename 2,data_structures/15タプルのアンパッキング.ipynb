{
 "cells": [
  {
   "cell_type": "markdown",
   "metadata": {},
   "source": [
    "### タプルのアンパッキング"
   ]
  },
  {
   "cell_type": "code",
   "execution_count": 4,
   "metadata": {},
   "outputs": [
    {
     "name": "stdout",
     "output_type": "stream",
     "text": [
      "(10, 20)\n",
      "x = 10\n",
      "y = 20\n",
      "29 19\n"
     ]
    }
   ],
   "source": [
    "num_tuple = (10, 20)\n",
    "print(num_tuple)\n",
    "\n",
    "x, y = num_tuple\n",
    "print(\"x =\", x)\n",
    "print(\"y =\", y)\n",
    "\n",
    "a = 19\n",
    "b = 29\n",
    "\n",
    "a, b = b, a\n",
    "\n",
    "print(a, b)"
   ]
  }
 ],
 "metadata": {
  "kernelspec": {
   "display_name": "Python 3",
   "language": "python",
   "name": "python3"
  },
  "language_info": {
   "codemirror_mode": {
    "name": "ipython",
    "version": 3
   },
   "file_extension": ".py",
   "mimetype": "text/x-python",
   "name": "python",
   "nbconvert_exporter": "python",
   "pygments_lexer": "ipython3",
   "version": "3.12.3"
  }
 },
 "nbformat": 4,
 "nbformat_minor": 2
}
