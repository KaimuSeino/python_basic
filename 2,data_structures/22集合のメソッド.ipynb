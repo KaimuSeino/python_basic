{
 "cells": [
  {
   "cell_type": "markdown",
   "metadata": {},
   "source": [
    "### 集合のメソッド"
   ]
  },
  {
   "cell_type": "code",
   "execution_count": 5,
   "metadata": {},
   "outputs": [
    {
     "name": "stdout",
     "output_type": "stream",
     "text": [
      "{1, 2, 3, 4, 5, 6, 7}\n",
      "{1, 2, 4, 5, 6, 7}\n",
      "set()\n",
      "{} <class 'dict'>\n",
      "set() <class 'set'>\n"
     ]
    }
   ],
   "source": [
    "s = {1, 2, 3, 4, 5, 6}\n",
    "\n",
    "# 集合にはindexがない\n",
    "# s[0]が使えない\n",
    "\n",
    "s.add(7)\n",
    "print(s)\n",
    "\n",
    "s.remove(3)\n",
    "print(s)\n",
    "\n",
    "s.clear()\n",
    "print(s)\n",
    "\n",
    "a = {}\n",
    "print(a, type(a))\n",
    "print(s, type(s))"
   ]
  }
 ],
 "metadata": {
  "kernelspec": {
   "display_name": "Python 3",
   "language": "python",
   "name": "python3"
  },
  "language_info": {
   "codemirror_mode": {
    "name": "ipython",
    "version": 3
   },
   "file_extension": ".py",
   "mimetype": "text/x-python",
   "name": "python",
   "nbconvert_exporter": "python",
   "pygments_lexer": "ipython3",
   "version": "3.12.3"
  }
 },
 "nbformat": 4,
 "nbformat_minor": 2
}
