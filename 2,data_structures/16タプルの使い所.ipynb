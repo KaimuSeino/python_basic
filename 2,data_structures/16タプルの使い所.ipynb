{
 "cells": [
  {
   "cell_type": "markdown",
   "metadata": {},
   "source": [
    "### タプルの使い所"
   ]
  },
  {
   "cell_type": "code",
   "execution_count": null,
   "metadata": {},
   "outputs": [],
   "source": [
    "# 選択肢の保存\n",
    "chose_from_two = (\"A\", \"B\", \"C\")\n",
    "\n",
    "# 都道府県\n",
    "prefecture = (\"北海道\", \"青森県\", \"秋田県\", \"岩手県\", \"宮城県\")"
   ]
  }
 ],
 "metadata": {
  "language_info": {
   "name": "python"
  }
 },
 "nbformat": 4,
 "nbformat_minor": 2
}
