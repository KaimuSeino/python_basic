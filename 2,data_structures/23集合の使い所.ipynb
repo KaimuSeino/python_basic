{
 "cells": [
  {
   "cell_type": "markdown",
   "metadata": {},
   "source": [
    "### 集合の使い所"
   ]
  },
  {
   "cell_type": "code",
   "execution_count": 2,
   "metadata": {},
   "outputs": [
    {
     "name": "stdout",
     "output_type": "stream",
     "text": [
      "どちらも友達 {'C'}さん\n"
     ]
    }
   ],
   "source": [
    "# kiamuの友達\n",
    "\n",
    "kaimus_friends = {\"Aさん\", \"C\", \"D\"}\n",
    "\n",
    "A_friends = {\"B\", \"C\", \"E\", \"kaimu\"}\n",
    "\n",
    "# どちらも友達\n",
    "print(\"どちらも友達\", f\"{kaimus_friends & A_friends}さん\")"
   ]
  }
 ],
 "metadata": {
  "kernelspec": {
   "display_name": "Python 3",
   "language": "python",
   "name": "python3"
  },
  "language_info": {
   "codemirror_mode": {
    "name": "ipython",
    "version": 3
   },
   "file_extension": ".py",
   "mimetype": "text/x-python",
   "name": "python",
   "nbconvert_exporter": "python",
   "pygments_lexer": "ipython3",
   "version": "3.12.3"
  }
 },
 "nbformat": 4,
 "nbformat_minor": 2
}
