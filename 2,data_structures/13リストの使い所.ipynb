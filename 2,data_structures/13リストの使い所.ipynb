{
 "cells": [
  {
   "cell_type": "markdown",
   "metadata": {},
   "source": [
    "### リストの使い所"
   ]
  },
  {
   "cell_type": "markdown",
   "metadata": {},
   "source": [
    "５席ある椅子に\"P\"さんが何人のっているか？"
   ]
  },
  {
   "cell_type": "code",
   "execution_count": 8,
   "metadata": {},
   "outputs": [
    {
     "name": "stdout",
     "output_type": "stream",
     "text": [
      "満員です\n"
     ]
    }
   ],
   "source": [
    "seat = []\n",
    "\n",
    "min = 0\n",
    "max = 5\n",
    "\n",
    "seat.append(\"P\")\n",
    "seat.append(\"P\")\n",
    "seat.append(\"P\")\n",
    "seat.append(\"P\")\n",
    "seat.append(\"P\")\n",
    "\n",
    "# if文はあとでやる\n",
    "if min <= len(seat) < max:\n",
    "  print(f\"{len(seat)}人乗っています。あと{max-len(seat)}人乗ることができます\")\n",
    "else:\n",
    "  print(\"満員です\")"
   ]
  }
 ],
 "metadata": {
  "kernelspec": {
   "display_name": "Python 3",
   "language": "python",
   "name": "python3"
  },
  "language_info": {
   "codemirror_mode": {
    "name": "ipython",
    "version": 3
   },
   "file_extension": ".py",
   "mimetype": "text/x-python",
   "name": "python",
   "nbconvert_exporter": "python",
   "pygments_lexer": "ipython3",
   "version": "3.12.3"
  }
 },
 "nbformat": 4,
 "nbformat_minor": 2
}
