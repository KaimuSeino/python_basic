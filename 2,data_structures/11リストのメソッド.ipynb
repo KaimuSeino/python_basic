{
 "cells": [
  {
   "cell_type": "markdown",
   "metadata": {},
   "source": [
    "### リストのメソッド"
   ]
  },
  {
   "cell_type": "code",
   "execution_count": 36,
   "metadata": {},
   "outputs": [
    {
     "name": "stdout",
     "output_type": "stream",
     "text": [
      "6\n",
      "1\n",
      "exit\n",
      "[1, 1, 2, 2, 3, 3, 4, 5]\n",
      "[5, 4, 3, 3, 2, 2, 1, 1]\n",
      "[1, 1, 2, 2, 3, 3, 4, 5]\n"
     ]
    }
   ],
   "source": [
    "r = [1, 2, 3, 4, 5, 1, 2, 3]\n",
    "\n",
    "print(r.index(2, 3))\n",
    "\n",
    "print(r.count(4))\n",
    "\n",
    "if 5 in r:\n",
    "  print(\"exit\")\n",
    "\n",
    "r.sort()\n",
    "\n",
    "print(r)\n",
    "\n",
    "r.sort(reverse=True)\n",
    "print(r)\n",
    "\n",
    "r.reverse()\n",
    "print(r)"
   ]
  },
  {
   "cell_type": "code",
   "execution_count": null,
   "metadata": {},
   "outputs": [],
   "source": [
    "s = \"My name is Kaimu.\"\n",
    "to_split = s.split(\" \")\n",
    "print(to_split)\n",
    "\n",
    "x = \" \".join(to_split)\n",
    "print(x)\n",
    "\n",
    "print(help(list))"
   ]
  }
 ],
 "metadata": {
  "kernelspec": {
   "display_name": "Python 3",
   "language": "python",
   "name": "python3"
  },
  "language_info": {
   "codemirror_mode": {
    "name": "ipython",
    "version": 3
   },
   "file_extension": ".py",
   "mimetype": "text/x-python",
   "name": "python",
   "nbconvert_exporter": "python",
   "pygments_lexer": "ipython3",
   "version": "3.12.3"
  }
 },
 "nbformat": 4,
 "nbformat_minor": 2
}
