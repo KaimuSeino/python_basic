{
 "cells": [
  {
   "cell_type": "markdown",
   "metadata": {},
   "source": [
    "### 辞書型"
   ]
  },
  {
   "cell_type": "code",
   "execution_count": 5,
   "metadata": {},
   "outputs": [
    {
     "name": "stdout",
     "output_type": "stream",
     "text": [
      "{'X': 10, 'Y': 20}\n",
      "<class 'dict'>\n",
      "10\n",
      "{'X': 100, 'Y': 20}\n",
      "{'X': 100, 'Y': 20, 'Z': 2000}\n"
     ]
    }
   ],
   "source": [
    "d = {\"X\": 10, \"Y\": 20}\n",
    "\n",
    "print(d)\n",
    "print(type(d))\n",
    "\n",
    "print(d[\"X\"])\n",
    "\n",
    "d[\"X\"] = 100\n",
    "\n",
    "print(d)\n",
    "\n",
    "d[\"Z\"] = 2000\n",
    "\n",
    "print(d)"
   ]
  },
  {
   "cell_type": "code",
   "execution_count": 6,
   "metadata": {},
   "outputs": [
    {
     "name": "stdout",
     "output_type": "stream",
     "text": [
      "{'a': 10, 'b': 20}\n"
     ]
    }
   ],
   "source": [
    "d1 = dict(a=10, b=20)\n",
    "print(d1)"
   ]
  }
 ],
 "metadata": {
  "kernelspec": {
   "display_name": "Python 3",
   "language": "python",
   "name": "python3"
  },
  "language_info": {
   "codemirror_mode": {
    "name": "ipython",
    "version": 3
   },
   "file_extension": ".py",
   "mimetype": "text/x-python",
   "name": "python",
   "nbconvert_exporter": "python",
   "pygments_lexer": "ipython3",
   "version": "3.12.3"
  }
 },
 "nbformat": 4,
 "nbformat_minor": 2
}
