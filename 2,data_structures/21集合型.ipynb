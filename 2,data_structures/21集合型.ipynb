{
 "cells": [
  {
   "cell_type": "markdown",
   "metadata": {},
   "source": [
    "### 集合型"
   ]
  },
  {
   "cell_type": "code",
   "execution_count": 12,
   "metadata": {},
   "outputs": [
    {
     "name": "stdout",
     "output_type": "stream",
     "text": [
      "{1, 2, 3, 4, 5, 6, 7}\n",
      "<class 'set'>\n",
      "{8, 1, 2, 6}\n",
      "####################\n",
      "{1, 2, 3, 4, 5, 6, 7} - \n",
      "{8, 1, 2, 6} \n",
      " ={3, 4, 5, 7}\n",
      "####################\n",
      "{8, 1, 2, 6} - \n",
      "{1, 2, 3, 4, 5, 6, 7} \n",
      " ={8}\n",
      "####################\n",
      "{1, 2, 3, 4, 5, 6, 7} & \n",
      "{8, 1, 2, 6} \n",
      " ={1, 2, 6}\n",
      "####################\n",
      "{1, 2, 3, 4, 5, 6, 7} | \n",
      "{8, 1, 2, 6} \n",
      " ={1, 2, 3, 4, 5, 6, 7, 8}\n",
      "####################\n",
      "{1, 2, 3, 4, 5, 6, 7} ^ \n",
      "{8, 1, 2, 6} \n",
      " ={1, 2, 3, 4, 5, 6, 7, 8}\n"
     ]
    }
   ],
   "source": [
    "a = {1, 2, 3, 4, 5, 5, 6, 6, 7, 7, 7, 7}\n",
    "print(a)\n",
    "print(type(a))\n",
    "\n",
    "b = {1, 2, 2, 6, 8}\n",
    "print(b)\n",
    "\n",
    "print(\"####################\")\n",
    "ans1 = a - b\n",
    "\n",
    "print(f\"{a} - \\n{b} \\n ={ans1}\")\n",
    "\n",
    "print(\"####################\")\n",
    "ans2 = b - a\n",
    "\n",
    "print(f\"{b} - \\n{a} \\n ={ans2}\")\n",
    "\n",
    "print(\"####################\")\n",
    "ans3 = a & b \n",
    "\n",
    "print(f\"{a} & \\n{b} \\n ={ans3}\")\n",
    "\n",
    "print(\"####################\")\n",
    "ans4 = a | b\n",
    "\n",
    "print(f\"{a} | \\n{b} \\n ={ans4}\")\n",
    "\n",
    "print(\"####################\")\n",
    "ans5 = a ^ b\n",
    "print(f\"{a} ^ \\n{b} \\n ={ans4}\")"
   ]
  }
 ],
 "metadata": {
  "kernelspec": {
   "display_name": "Python 3",
   "language": "python",
   "name": "python3"
  },
  "language_info": {
   "codemirror_mode": {
    "name": "ipython",
    "version": 3
   },
   "file_extension": ".py",
   "mimetype": "text/x-python",
   "name": "python",
   "nbconvert_exporter": "python",
   "pygments_lexer": "ipython3",
   "version": "3.12.3"
  }
 },
 "nbformat": 4,
 "nbformat_minor": 2
}
