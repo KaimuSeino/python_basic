{
 "cells": [
  {
   "cell_type": "markdown",
   "metadata": {},
   "source": [
    "### 文字列のメソッド"
   ]
  },
  {
   "cell_type": "code",
   "execution_count": 11,
   "metadata": {},
   "outputs": [
    {
     "name": "stdout",
     "output_type": "stream",
     "text": [
      "True\n",
      "11\n",
      "21\n",
      "My name is kaimu. hi kaimu. :capitalize\n",
      "My Name Is Kaimu. Hi Kaimu.\n",
      "MY NAME IS KAIMU. HI KAIMU.\n",
      "my name is kaimu. hi kaimu.\n",
      "My name is Seino. Hi Seino.\n"
     ]
    }
   ],
   "source": [
    "a = \"My name is Kaimu. Hi Kaimu.\"\n",
    "\n",
    "is_start = a.startswith(\"My\")\n",
    "\n",
    "print(is_start)\n",
    "\n",
    "print(a.find(\"Kaimu\")) #kaimuが11番目にあるよ\n",
    "print(a.rfind(\"Kaimu\")) #後ろの文章にあるkaimuが21番目にあるよ\n",
    "print(a.capitalize(), \":capitalize\") #capitalize: 大文字にする（意）\n",
    "print(a.title())\n",
    "print(a.upper())\n",
    "print(a.lower())\n",
    "print(a.replace(\"Kaimu\", \"Seino\"))"
   ]
  }
 ],
 "metadata": {
  "kernelspec": {
   "display_name": "Python 3",
   "language": "python",
   "name": "python3"
  },
  "language_info": {
   "codemirror_mode": {
    "name": "ipython",
    "version": 3
   },
   "file_extension": ".py",
   "mimetype": "text/x-python",
   "name": "python",
   "nbconvert_exporter": "python",
   "pygments_lexer": "ipython3",
   "version": "3.12.3"
  }
 },
 "nbformat": 4,
 "nbformat_minor": 2
}
