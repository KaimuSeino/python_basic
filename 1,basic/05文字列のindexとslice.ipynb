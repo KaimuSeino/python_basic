{
 "cells": [
  {
   "cell_type": "markdown",
   "metadata": {},
   "source": [
    "### 文字列のインデックスとスライス"
   ]
  },
  {
   "cell_type": "code",
   "execution_count": 1,
   "metadata": {},
   "outputs": [
    {
     "name": "stdout",
     "output_type": "stream",
     "text": [
      "p\n",
      "y\n",
      "n\n",
      "tho\n",
      "pytho\n",
      "thon\n",
      "pto\n"
     ]
    }
   ],
   "source": [
    "word = \"python\"\n",
    "\n",
    "print(word[0])\n",
    "print(word[1])\n",
    "print(word[-1])\n",
    "\n",
    "print(word[2:5])\n",
    "print(word[:5])\n",
    "print(word[2:])\n",
    "\n",
    "print(word[::2])"
   ]
  },
  {
   "cell_type": "code",
   "execution_count": 11,
   "metadata": {},
   "outputs": [
    {
     "name": "stdout",
     "output_type": "stream",
     "text": [
      "jython\n",
      "6\n"
     ]
    }
   ],
   "source": [
    "word = \"j\" + word[1:]\n",
    "print(word[:])\n",
    "\n",
    "print(len(word))"
   ]
  }
 ],
 "metadata": {
  "kernelspec": {
   "display_name": "Python 3",
   "language": "python",
   "name": "python3"
  },
  "language_info": {
   "codemirror_mode": {
    "name": "ipython",
    "version": 3
   },
   "file_extension": ".py",
   "mimetype": "text/x-python",
   "name": "python",
   "nbconvert_exporter": "python",
   "pygments_lexer": "ipython3",
   "version": "3.12.3"
  }
 },
 "nbformat": 4,
 "nbformat_minor": 2
}
