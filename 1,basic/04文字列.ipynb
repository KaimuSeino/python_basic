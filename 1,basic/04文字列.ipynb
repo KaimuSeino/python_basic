{
 "cells": [
  {
   "cell_type": "markdown",
   "metadata": {},
   "source": [
    "### 文字列"
   ]
  },
  {
   "cell_type": "code",
   "execution_count": 4,
   "metadata": {},
   "outputs": [
    {
     "name": "stdout",
     "output_type": "stream",
     "text": [
      "I don't know\n",
      "say \"I don't konw\"\n",
      "hello \n",
      "How are you?\n"
     ]
    }
   ],
   "source": [
    "print(\"I don't know\")\n",
    "\n",
    "print('say \"I don\\'t konw\"')\n",
    "\n",
    "print(\"hello \\nHow are you?\")"
   ]
  },
  {
   "cell_type": "code",
   "execution_count": 6,
   "metadata": {},
   "outputs": [
    {
     "name": "stdout",
     "output_type": "stream",
     "text": [
      "C:\n",
      "ame\n",
      "ame\n",
      "C:\\name\\name\n"
     ]
    }
   ],
   "source": [
    "print(\"C:\\name\\name\")\n",
    "# rowデータ: 生のデータという意味\n",
    "print(r\"C:\\name\\name\")"
   ]
  },
  {
   "cell_type": "code",
   "execution_count": 11,
   "metadata": {},
   "outputs": [
    {
     "name": "stdout",
     "output_type": "stream",
     "text": [
      "###########\n",
      "line1\n",
      "line2\n",
      "line3\n",
      "###########\n"
     ]
    }
   ],
   "source": [
    "print(\"###########\")\n",
    "print(\"\"\"\\\n",
    "line1\n",
    "line2\n",
    "line3\\\n",
    "\"\"\")\n",
    "print(\"###########\")\n",
    "\n",
    "#改行自動入力\n",
    "#バックスラッシュで次の行から始めてくださいって意味"
   ]
  },
  {
   "cell_type": "code",
   "execution_count": 12,
   "metadata": {},
   "outputs": [
    {
     "name": "stdout",
     "output_type": "stream",
     "text": [
      "HIHIHI\n"
     ]
    }
   ],
   "source": [
    "print(\"HI\" * 3)"
   ]
  },
  {
   "cell_type": "code",
   "execution_count": 14,
   "metadata": {},
   "outputs": [
    {
     "name": "stdout",
     "output_type": "stream",
     "text": [
      "aaaaaaaaaaaaaaaaaaaabbbbbbbbbbbbbbbbbbbb\n",
      "aaaaaaaaaaaaaaaaaaaaaaaaaiiiiiiiiiiiiiiiiiiiiiiiii\n"
     ]
    }
   ],
   "source": [
    "s = \"aaaaaaaaaaaaaaaaaaaa\"\\\n",
    "    \"bbbbbbbbbbbbbbbbbbbb\"\n",
    "\n",
    "print(s)\n",
    "\n",
    "\n",
    "t = (\"aaaaaaaaaaaaaaaaaaaaaaaaa\"\n",
    "     \"iiiiiiiiiiiiiiiiiiiiiiiii\")\n",
    "\n",
    "print(t)"
   ]
  },
  {
   "cell_type": "code",
   "execution_count": 3,
   "metadata": {},
   "outputs": [
    {
     "name": "stdout",
     "output_type": "stream",
     "text": [
      "<class 'int'>\n"
     ]
    }
   ],
   "source": [
    "print(type(len(\"aaaaa\")))"
   ]
  }
 ],
 "metadata": {
  "kernelspec": {
   "display_name": "Python 3",
   "language": "python",
   "name": "python3"
  },
  "language_info": {
   "codemirror_mode": {
    "name": "ipython",
    "version": 3
   },
   "file_extension": ".py",
   "mimetype": "text/x-python",
   "name": "python",
   "nbconvert_exporter": "python",
   "pygments_lexer": "ipython3",
   "version": "3.12.3"
  }
 },
 "nbformat": 4,
 "nbformat_minor": 2
}
